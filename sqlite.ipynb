{
 "cells": [
  {
   "cell_type": "markdown",
   "metadata": {},
   "source": [
    "# Jupyter - SQLite\n",
    "\n",
    "Example Jupyter Notebook for SQLite.\n",
    "\n",
    "```mermaid\n",
    "flowchart LR\n",
    "\tJupyter --> SQLite (in-memory)\n",
    "```"
   ]
  },
  {
   "cell_type": "markdown",
   "metadata": {},
   "source": [
    "## Kernel Setup\n",
    "\n",
    "Configure the Jupyter Kernel."
   ]
  },
  {
   "cell_type": "code",
   "execution_count": 79,
   "metadata": {
    "dotnet_interactive": {
     "language": "csharp"
    }
   },
   "outputs": [
    {
     "name": "stdout",
     "output_type": "stream",
     "text": [
      "The sql extension is already loaded. To reload it, use:\n",
      "  %reload_ext sql\n"
     ]
    }
   ],
   "source": [
    "# ipython-sql enables the %sql and %%sql magic statements\n",
    "%load_ext sql"
   ]
  },
  {
   "cell_type": "markdown",
   "metadata": {},
   "source": [
    "## Connections\n",
    "\n",
    "Manage DBMS connections."
   ]
  },
  {
   "cell_type": "markdown",
   "metadata": {},
   "source": [
    "### List Connections\n",
    "\n",
    "Open database connections."
   ]
  },
  {
   "cell_type": "code",
   "execution_count": 80,
   "metadata": {},
   "outputs": [
    {
     "data": {
      "text/plain": [
       "{'sqlite:///': <sql.connection.Connection at 0x234c0edae50>}"
      ]
     },
     "execution_count": 80,
     "metadata": {},
     "output_type": "execute_result"
    }
   ],
   "source": [
    "%sql --connections"
   ]
  },
  {
   "cell_type": "markdown",
   "metadata": {},
   "source": [
    "### Open a Connection"
   ]
  },
  {
   "cell_type": "code",
   "execution_count": 81,
   "metadata": {
    "dotnet_interactive": {
     "language": "csharp"
    }
   },
   "outputs": [],
   "source": [
    "# connection string to an in-memory sqlite instance\n",
    "%sql sqlite:///:memory:"
   ]
  },
  {
   "cell_type": "markdown",
   "metadata": {},
   "source": [
    "### Close a Connection"
   ]
  },
  {
   "cell_type": "code",
   "execution_count": 82,
   "metadata": {},
   "outputs": [],
   "source": [
    "# Close a connection by name\n",
    "%sql --close sqlite:///:memory:\n",
    "\n",
    "# open a default connection (in-memory)\n",
    "%sql sqlite:///"
   ]
  },
  {
   "cell_type": "markdown",
   "metadata": {},
   "source": [
    "## Magic Queries\n",
    "\n",
    "Invoke queries with the `%sql` and `%%sql` magics for single and multi-line queries."
   ]
  },
  {
   "cell_type": "markdown",
   "metadata": {},
   "source": [
    "### Setup Example Schema\n",
    "\n",
    "Setup an example database schema.\n",
    "\n",
    "```mermaid\n",
    "erDiagram\n",
    "    WRITER {\n",
    "        string first_name\n",
    "        string last_name\n",
    "        int year_of_death\n",
    "    }\n",
    "```"
   ]
  },
  {
   "cell_type": "code",
   "execution_count": 83,
   "metadata": {
    "dotnet_interactive": {
     "language": "sql"
    },
    "vscode": {
     "languageId": "sql"
    }
   },
   "outputs": [
    {
     "name": "stdout",
     "output_type": "stream",
     "text": [
      " * sqlite:///\n",
      "(sqlite3.OperationalError) table writer already exists\n",
      "[SQL: CREATE TABLE writer (first_name, last_name, title, start_year);]\n",
      "(Background on this error at: https://sqlalche.me/e/14/e3q8)\n"
     ]
    }
   ],
   "source": [
    "%%sql\n",
    "CREATE TABLE writer (first_name, last_name, title, start_year);\n",
    "INSERT INTO writer VALUES ('Peter', 'Gibbons', 'Manager', 1998);\n",
    "INSERT INTO writer VALUES ('Milton', 'Waddams', 'Fixed', 1991);\n",
    "INSERT INTO writer VALUES ('Bill', 'Lumbergh', 'Manager', 1992);\n",
    "INSERT INTO writer VALUES ('Bob', 'Slydell', 'Consultant', 1999);\n",
    "INSERT INTO writer VALUES ('Michael', 'Bolton', 'Programmer', 1996);\n",
    "INSERT INTO writer VALUES ('Samir', 'Nagheenanajar', 'Programmer', 1993);"
   ]
  },
  {
   "cell_type": "markdown",
   "metadata": {},
   "source": [
    "### Single-Line Query\n",
    "\n",
    "Execute a single-line SQL query with the `%sql` magic statement."
   ]
  },
  {
   "cell_type": "code",
   "execution_count": 84,
   "metadata": {
    "dotnet_interactive": {
     "language": "sql"
    }
   },
   "outputs": [
    {
     "name": "stdout",
     "output_type": "stream",
     "text": [
      " * sqlite:///\n",
      "Done.\n"
     ]
    },
    {
     "data": {
      "text/html": [
       "<table>\n",
       "    <tr>\n",
       "        <th>first_name</th>\n",
       "        <th>last_name</th>\n",
       "        <th>title</th>\n",
       "        <th>start_year</th>\n",
       "    </tr>\n",
       "    <tr>\n",
       "        <td>Peter</td>\n",
       "        <td>Gibbons</td>\n",
       "        <td>Manager</td>\n",
       "        <td>1998</td>\n",
       "    </tr>\n",
       "    <tr>\n",
       "        <td>Milton</td>\n",
       "        <td>Waddams</td>\n",
       "        <td>Severed</td>\n",
       "        <td>1991</td>\n",
       "    </tr>\n",
       "    <tr>\n",
       "        <td>Bill</td>\n",
       "        <td>Lumbergh</td>\n",
       "        <td>Manager</td>\n",
       "        <td>1992</td>\n",
       "    </tr>\n",
       "    <tr>\n",
       "        <td>Bob</td>\n",
       "        <td>Slydell</td>\n",
       "        <td>Consultant</td>\n",
       "        <td>1999</td>\n",
       "    </tr>\n",
       "    <tr>\n",
       "        <td>Michael</td>\n",
       "        <td>Bolton</td>\n",
       "        <td>Programmer</td>\n",
       "        <td>1996</td>\n",
       "    </tr>\n",
       "    <tr>\n",
       "        <td>Samir</td>\n",
       "        <td>Nagheenanajar</td>\n",
       "        <td>Programmer</td>\n",
       "        <td>1993</td>\n",
       "    </tr>\n",
       "</table>"
      ],
      "text/plain": [
       "[('Peter', 'Gibbons', 'Manager', 1998),\n",
       " ('Milton', 'Waddams', 'Severed', 1991),\n",
       " ('Bill', 'Lumbergh', 'Manager', 1992),\n",
       " ('Bob', 'Slydell', 'Consultant', 1999),\n",
       " ('Michael', 'Bolton', 'Programmer', 1996),\n",
       " ('Samir', 'Nagheenanajar', 'Programmer', 1993)]"
      ]
     },
     "execution_count": 84,
     "metadata": {},
     "output_type": "execute_result"
    }
   ],
   "source": [
    "%sql SELECT * FROM writer"
   ]
  },
  {
   "cell_type": "markdown",
   "metadata": {},
   "source": [
    "### Multi-Line Query\n",
    "\n",
    "Execute multi-line SQL queries with the `%%sql`` magic statement."
   ]
  },
  {
   "cell_type": "code",
   "execution_count": 85,
   "metadata": {
    "vscode": {
     "languageId": "sql"
    }
   },
   "outputs": [
    {
     "name": "stdout",
     "output_type": "stream",
     "text": [
      " * sqlite:///\n",
      "Done.\n"
     ]
    },
    {
     "data": {
      "text/html": [
       "<table>\n",
       "    <tr>\n",
       "        <th>first_name</th>\n",
       "        <th>last_name</th>\n",
       "        <th>title</th>\n",
       "        <th>start_year</th>\n",
       "    </tr>\n",
       "    <tr>\n",
       "        <td>Peter</td>\n",
       "        <td>Gibbons</td>\n",
       "        <td>Manager</td>\n",
       "        <td>1998</td>\n",
       "    </tr>\n",
       "    <tr>\n",
       "        <td>Milton</td>\n",
       "        <td>Waddams</td>\n",
       "        <td>Severed</td>\n",
       "        <td>1991</td>\n",
       "    </tr>\n",
       "    <tr>\n",
       "        <td>Bill</td>\n",
       "        <td>Lumbergh</td>\n",
       "        <td>Manager</td>\n",
       "        <td>1992</td>\n",
       "    </tr>\n",
       "    <tr>\n",
       "        <td>Bob</td>\n",
       "        <td>Slydell</td>\n",
       "        <td>Consultant</td>\n",
       "        <td>1999</td>\n",
       "    </tr>\n",
       "    <tr>\n",
       "        <td>Michael</td>\n",
       "        <td>Bolton</td>\n",
       "        <td>Programmer</td>\n",
       "        <td>1996</td>\n",
       "    </tr>\n",
       "    <tr>\n",
       "        <td>Samir</td>\n",
       "        <td>Nagheenanajar</td>\n",
       "        <td>Programmer</td>\n",
       "        <td>1993</td>\n",
       "    </tr>\n",
       "</table>"
      ],
      "text/plain": [
       "[('Peter', 'Gibbons', 'Manager', 1998),\n",
       " ('Milton', 'Waddams', 'Severed', 1991),\n",
       " ('Bill', 'Lumbergh', 'Manager', 1992),\n",
       " ('Bob', 'Slydell', 'Consultant', 1999),\n",
       " ('Michael', 'Bolton', 'Programmer', 1996),\n",
       " ('Samir', 'Nagheenanajar', 'Programmer', 1993)]"
      ]
     },
     "execution_count": 85,
     "metadata": {},
     "output_type": "execute_result"
    }
   ],
   "source": [
    "%%sql\n",
    "SELECT\n",
    "\t*\n",
    "FROM\n",
    "\twriter\n",
    "LIMIT 10;"
   ]
  },
  {
   "cell_type": "markdown",
   "metadata": {},
   "source": [
    "### Parameterized SQL Queries\n",
    "\n",
    "Safely use variables in a SQL query by binding values to a parameterized SQL query. Jupyter Notebooks makes it easy, so there's still no excuse for SQL injection attacks in 2022.\n",
    "\n",
    "- Define variables in Python: `varname = 'Value'`\n",
    "- Reference variables in queries: `:varname`"
   ]
  },
  {
   "cell_type": "code",
   "execution_count": 86,
   "metadata": {
    "vscode": {
     "languageId": "sql"
    }
   },
   "outputs": [
    {
     "name": "stdout",
     "output_type": "stream",
     "text": [
      " * sqlite:///\n",
      "Done.\n"
     ]
    },
    {
     "data": {
      "text/html": [
       "<table>\n",
       "    <tr>\n",
       "        <th>first_name</th>\n",
       "        <th>last_name</th>\n",
       "        <th>title</th>\n",
       "        <th>start_year</th>\n",
       "    </tr>\n",
       "    <tr>\n",
       "        <td>Peter</td>\n",
       "        <td>Gibbons</td>\n",
       "        <td>Manager</td>\n",
       "        <td>1998</td>\n",
       "    </tr>\n",
       "    <tr>\n",
       "        <td>Bill</td>\n",
       "        <td>Lumbergh</td>\n",
       "        <td>Manager</td>\n",
       "        <td>1992</td>\n",
       "    </tr>\n",
       "</table>"
      ],
      "text/plain": [
       "[('Peter', 'Gibbons', 'Manager', 1998), ('Bill', 'Lumbergh', 'Manager', 1992)]"
      ]
     },
     "execution_count": 86,
     "metadata": {},
     "output_type": "execute_result"
    }
   ],
   "source": [
    "t = 'Manager'\n",
    "%sql SELECT * FROM writer WHERE title = :t;"
   ]
  },
  {
   "cell_type": "markdown",
   "metadata": {},
   "source": [
    "### Bind Query Results to a Variable\n",
    "\n",
    "Bind query results to a Python variable.\n",
    "\n",
    "- Single-line assignment syntax: `varname = %sql ...`\n",
    "- Multi-line assignment syntax: `%%sql varname = << ...`"
   ]
  },
  {
   "cell_type": "code",
   "execution_count": 87,
   "metadata": {
    "vscode": {
     "languageId": "sql"
    }
   },
   "outputs": [
    {
     "name": "stdout",
     "output_type": "stream",
     "text": [
      " * sqlite:///\n",
      "Done.\n"
     ]
    }
   ],
   "source": [
    "#-- single-line assignment\n",
    "result = %sql SELECT * FROM writer WHERE title = 'Programmer';"
   ]
  },
  {
   "cell_type": "code",
   "execution_count": 88,
   "metadata": {
    "vscode": {
     "languageId": "sql"
    }
   },
   "outputs": [
    {
     "name": "stdout",
     "output_type": "stream",
     "text": [
      " * sqlite:///\n",
      "Done.\n",
      "Returning data to local variable result2\n"
     ]
    }
   ],
   "source": [
    "%%sql result2 <<\n",
    "-- multi-line assignment\n",
    "SELECT *\n",
    "FROM writer\n",
    "WHERE title NOT IN ('Consultant', 'Programmer', 'Manager');"
   ]
  },
  {
   "cell_type": "markdown",
   "metadata": {},
   "source": [
    "### Pass Results in a Variable\n",
    "\n",
    "Output query data passed between cells. Output from the last cell executed is stored in an automatic variable named `_`."
   ]
  },
  {
   "cell_type": "code",
   "execution_count": 89,
   "metadata": {
    "vscode": {
     "languageId": "sql"
    }
   },
   "outputs": [
    {
     "name": "stdout",
     "output_type": "stream",
     "text": [
      " * sqlite:///\n",
      "Done.\n"
     ]
    }
   ],
   "source": [
    "#-- First cell\n",
    "#----------------\n",
    "#-- Save results to a variable.\n",
    "result = %sql SELECT * FROM writer WHERE title ='Programmer';\n",
    "\n",
    "#-- No cell output"
   ]
  },
  {
   "cell_type": "code",
   "execution_count": 90,
   "metadata": {
    "vscode": {
     "languageId": "sql"
    }
   },
   "outputs": [
    {
     "data": {
      "text/html": [
       "<table>\n",
       "    <tr>\n",
       "        <th>first_name</th>\n",
       "        <th>last_name</th>\n",
       "        <th>title</th>\n",
       "        <th>start_year</th>\n",
       "    </tr>\n",
       "    <tr>\n",
       "        <td>Michael</td>\n",
       "        <td>Bolton</td>\n",
       "        <td>Programmer</td>\n",
       "        <td>1996</td>\n",
       "    </tr>\n",
       "    <tr>\n",
       "        <td>Samir</td>\n",
       "        <td>Nagheenanajar</td>\n",
       "        <td>Programmer</td>\n",
       "        <td>1993</td>\n",
       "    </tr>\n",
       "</table>"
      ],
      "text/plain": [
       "[('Michael', 'Bolton', 'Programmer', 1996),\n",
       " ('Samir', 'Nagheenanajar', 'Programmer', 1993)]"
      ]
     },
     "execution_count": 90,
     "metadata": {},
     "output_type": "execute_result"
    }
   ],
   "source": [
    "#-- SECOND CELL\n",
    "#----------------\n",
    "#-- Output results saved from the first cell.\n",
    "result"
   ]
  },
  {
   "cell_type": "markdown",
   "metadata": {},
   "source": [
    "### Pass Results in the Automatic Variable: `_`\n",
    "\n",
    "`_` is an variable containing output from a previously executed cell."
   ]
  },
  {
   "cell_type": "code",
   "execution_count": 91,
   "metadata": {
    "vscode": {
     "languageId": "sql"
    }
   },
   "outputs": [
    {
     "name": "stdout",
     "output_type": "stream",
     "text": [
      " * sqlite:///\n",
      "(sqlite3.OperationalError) no such column: TABLE_TYPE\n",
      "[SQL: SELECT * FROM writer WHERE TABLE_TYPE='Manager';]\n",
      "(Background on this error at: https://sqlalche.me/e/14/e3q8)\n"
     ]
    }
   ],
   "source": [
    "#-- First cell\n",
    "#----------------\n",
    "#-- Save results to a variable.\n",
    "%sql SELECT * FROM writer WHERE TABLE_TYPE='Manager';"
   ]
  },
  {
   "cell_type": "code",
   "execution_count": 92,
   "metadata": {
    "vscode": {
     "languageId": "sql"
    }
   },
   "outputs": [
    {
     "name": "stdout",
     "output_type": "stream",
     "text": [
      "result in tabular format:\n",
      "+------------+---------------+------------+------------+\n",
      "| first_name |   last_name   |   title    | start_year |\n",
      "+------------+---------------+------------+------------+\n",
      "|  Michael   |     Bolton    | Programmer |    1996    |\n",
      "|   Samir    | Nagheenanajar | Programmer |    1993    |\n",
      "+------------+---------------+------------+------------+\n"
     ]
    }
   ],
   "source": [
    "#-- Second cell\n",
    "#----------------\n",
    "#-- Obtain results from a variable.\n",
    "result = _\n",
    "\n",
    "print('result in tabular format:')\n",
    "print(result)"
   ]
  },
  {
   "cell_type": "markdown",
   "metadata": {},
   "source": [
    "### Access Result Values\n",
    "\n",
    "Various ways to access data from query execution results."
   ]
  },
  {
   "cell_type": "code",
   "execution_count": 93,
   "metadata": {
    "vscode": {
     "languageId": "sql"
    }
   },
   "outputs": [
    {
     "name": "stdout",
     "output_type": "stream",
     "text": [
      "table columns:\n",
      "RMKeyView(['first_name', 'last_name', 'title', 'start_year'])\n",
      "first row value: \n",
      "('Michael', 'Bolton', 'Programmer', 1996)\n",
      "first row, first column: Michael\n",
      "first row and a named column: Michael\n",
      "first row and an object property column: Bolton\n"
     ]
    }
   ],
   "source": [
    "print('table columns:')\n",
    "print(result.keys)\n",
    "print('first row value: ')\n",
    "print(result[0])\n",
    "\n",
    "print('first row, first column: ' + result[0][0])\n",
    "print('first row and a named column: ' + result[0][\"first_name\"])\n",
    "print('first row and an object property column: ' + result[0].last_name)"
   ]
  },
  {
   "cell_type": "markdown",
   "metadata": {},
   "source": [
    "## Pandas\n",
    "\n",
    "Process data directly in Python with Pandas DataFrames and the SQLAlchemy ORM."
   ]
  },
  {
   "cell_type": "markdown",
   "metadata": {},
   "source": [
    "### Convert Results to a DataFrame\n",
    "\n",
    "Execute a SQL query and convert the results into a Pandas DataFrame."
   ]
  },
  {
   "cell_type": "code",
   "execution_count": 94,
   "metadata": {
    "vscode": {
     "languageId": "sql"
    }
   },
   "outputs": [
    {
     "name": "stdout",
     "output_type": "stream",
     "text": [
      " * sqlite:///\n",
      "Done.\n"
     ]
    }
   ],
   "source": [
    "#-- Execute a query and save the result as a Pandas DataFrame.\n",
    "result = %sql SELECT * FROM writer;\n",
    "dataframe = result.DataFrame()"
   ]
  },
  {
   "cell_type": "markdown",
   "metadata": {},
   "source": [
    "### Persist a DataFrame to a New Database Table\n",
    "\n",
    "Save a DataFrame to a new table with the `--persist <variable>` command. The table is named after the DataFrame variable."
   ]
  },
  {
   "cell_type": "code",
   "execution_count": 95,
   "metadata": {
    "vscode": {
     "languageId": "sql"
    }
   },
   "outputs": [
    {
     "name": "stdout",
     "output_type": "stream",
     "text": [
      " * sqlite:///\n"
     ]
    },
    {
     "data": {
      "text/plain": [
       "'Persisted dataframe'"
      ]
     },
     "execution_count": 95,
     "metadata": {},
     "output_type": "execute_result"
    }
   ],
   "source": [
    "%sql --persist dataframe"
   ]
  },
  {
   "cell_type": "code",
   "execution_count": 96,
   "metadata": {
    "vscode": {
     "languageId": "sql"
    }
   },
   "outputs": [
    {
     "name": "stdout",
     "output_type": "stream",
     "text": [
      " * sqlite:///\n",
      "(sqlite3.OperationalError) near \"10\": syntax error\n",
      "[SQL: -- access the perisisted data\n",
      "SELECT TOP 10 *\n",
      "FROM dataframe;]\n",
      "(Background on this error at: https://sqlalche.me/e/14/e3q8)\n"
     ]
    }
   ],
   "source": [
    "%%sql\n",
    "-- access the perisisted data\n",
    "SELECT TOP 10 *\n",
    "FROM dataframe;"
   ]
  },
  {
   "cell_type": "markdown",
   "metadata": {},
   "source": [
    "### Append a DataFrame to an existing Database Table"
   ]
  },
  {
   "cell_type": "code",
   "execution_count": 97,
   "metadata": {
    "vscode": {
     "languageId": "sql"
    }
   },
   "outputs": [
    {
     "name": "stdout",
     "output_type": "stream",
     "text": [
      " * sqlite:///\n",
      " * sqlite:///\n",
      "Done.\n"
     ]
    },
    {
     "data": {
      "text/html": [
       "<table>\n",
       "    <tr>\n",
       "        <th>APPENDED_RECORD_CNT</th>\n",
       "    </tr>\n",
       "    <tr>\n",
       "        <td>12</td>\n",
       "    </tr>\n",
       "</table>"
      ],
      "text/plain": [
       "[(12,)]"
      ]
     },
     "execution_count": 97,
     "metadata": {},
     "output_type": "execute_result"
    }
   ],
   "source": [
    "#-- Append data to an existing table.\n",
    "#-- Run this cell multiple times to see the data duplicated after each run.\n",
    "%sql --append dataframe\n",
    "\n",
    "#-- Select the perisisted data.\n",
    "%sql SELECT COUNT(1) as APPENDED_RECORD_CNT FROM dataframe;"
   ]
  },
  {
   "cell_type": "markdown",
   "metadata": {},
   "source": [
    "### Drop the Persisted Database Table"
   ]
  },
  {
   "cell_type": "code",
   "execution_count": 98,
   "metadata": {
    "vscode": {
     "languageId": "sql"
    }
   },
   "outputs": [
    {
     "name": "stdout",
     "output_type": "stream",
     "text": [
      " * sqlite:///\n",
      "Done.\n"
     ]
    },
    {
     "data": {
      "text/plain": [
       "[]"
      ]
     },
     "execution_count": 98,
     "metadata": {},
     "output_type": "execute_result"
    }
   ],
   "source": [
    "#-- cleanup data from example\n",
    "%sql DROP TABLE dataframe"
   ]
  },
  {
   "cell_type": "markdown",
   "metadata": {},
   "source": [
    "## Matplotlib\n",
    "\n",
    "[matplotlib](https://matplotlib.org/) is used to plot graphs."
   ]
  },
  {
   "cell_type": "markdown",
   "metadata": {},
   "source": [
    "### Configure\n",
    "\n",
    "Configure matplotlib."
   ]
  },
  {
   "cell_type": "code",
   "execution_count": 99,
   "metadata": {},
   "outputs": [],
   "source": [
    "# Produce an inline PNG image instead of opening a GUI application.\n",
    "%matplotlib inline"
   ]
  },
  {
   "cell_type": "markdown",
   "metadata": {},
   "source": [
    "### Pie Chart"
   ]
  },
  {
   "cell_type": "code",
   "execution_count": 104,
   "metadata": {
    "vscode": {
     "languageId": "sql"
    }
   },
   "outputs": [
    {
     "name": "stdout",
     "output_type": "stream",
     "text": [
      " * sqlite:///\n",
      "Done.\n"
     ]
    },
    {
     "data": {
      "text/plain": [
       "([<matplotlib.patches.Wedge at 0x234d6aa5610>,\n",
       "  <matplotlib.patches.Wedge at 0x234d6aa5af0>,\n",
       "  <matplotlib.patches.Wedge at 0x234d6aa5eb0>,\n",
       "  <matplotlib.patches.Wedge at 0x234d6ab03d0>],\n",
       " [Text(0.9526279355804298, 0.5500000148652441, 'Consultant'),\n",
       "  Text(-0.5500000594609755, 0.9526279098330699, 'Manager'),\n",
       "  Text(-0.5499998810780428, -0.9526280128224968, 'Programmer'),\n",
       "  Text(0.9526280385698485, -0.5499998364823061, 'Severed')])"
      ]
     },
     "execution_count": 104,
     "metadata": {},
     "output_type": "execute_result"
    },
    {
     "data": {
      "image/png": "[encoded data removed]",
      "text/plain": [
       "<Figure size 432x288 with 1 Axes>"
      ]
     },
     "metadata": {},
     "output_type": "display_data"
    }
   ],
   "source": [
    "result = %sql SELECT title, COUNT(1) FROM writer GROUP BY title;\n",
    "result.pie()"
   ]
  },
  {
   "cell_type": "markdown",
   "metadata": {},
   "source": [
    "\n",
    "### Bar Chart"
   ]
  },
  {
   "cell_type": "code",
   "execution_count": 105,
   "metadata": {
    "vscode": {
     "languageId": "sql"
    }
   },
   "outputs": [
    {
     "data": {
      "text/plain": [
       "<BarContainer object of 4 artists>"
      ]
     },
     "execution_count": 105,
     "metadata": {},
     "output_type": "execute_result"
    },
    {
     "data": {
      "image/png": "[encoded data removed]",
      "text/plain": [
       "<Figure size 432x288 with 1 Axes>"
      ]
     },
     "metadata": {
      "needs_background": "light"
     },
     "output_type": "display_data"
    }
   ],
   "source": [
    "result.bar()"
   ]
  }
 ],
 "metadata": {
  "kernelspec": {
   "display_name": "Python 3.8.5 ('jupyter-sql-example-s9YgmqLQ')",
   "language": "python",
   "name": "python3"
  },
  "language_info": {
   "codemirror_mode": {
    "name": "ipython",
    "version": 3
   },
   "file_extension": ".py",
   "mimetype": "text/x-python",
   "name": "python",
   "nbconvert_exporter": "python",
   "pygments_lexer": "ipython3",
   "version": "3.8.5"
  },
  "orig_nbformat": 4,
  "vscode": {
   "interpreter": {
    "hash": "47bcc4ca2a5974197109c01b09a5e7ac9629bd760ffde210ac17f6d74168d49c"
   }
  }
 },
 "nbformat": 4,
 "nbformat_minor": 2
}
