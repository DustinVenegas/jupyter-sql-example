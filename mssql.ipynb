{
 "cells": [
  {
   "cell_type": "markdown",
   "metadata": {},
   "source": [
    "# Jupyter - Microsoft SQL Server\n",
    "\n",
    "Example Jupyter Notebook for Microsoft SQL Server."
   ]
  },
  {
   "cell_type": "markdown",
   "metadata": {},
   "source": [
    "```mermaid\n",
    "flowchart LR\n",
    "    Jupyter --> LocalDB\n",
    "```\n",
    "\n",
    "Jupyter talks to LocalDB. VSCode renders the Jupyter Notebook."
   ]
  },
  {
   "cell_type": "markdown",
   "metadata": {},
   "source": [
    "## Dependencies\n",
    "\n",
    "- SQL Server Express LocalDB, a low resource SQL Server instance ([docs](https://docs.microsoft.com/en-us/sql/database-engine/configure-windows/sql-server-express-localdb))\n",
    "- [ODBC Driver for SQL Server](https://docs.microsoft.com/en-us/sql/connect/odbc/download-odbc-driver-for-sql-server)"
   ]
  },
  {
   "cell_type": "markdown",
   "metadata": {},
   "source": [
    "### Install\n",
    "\n",
    "Install additional dependencies using [Chocolatey](https://chocolatey.org/why-chocolatey).\n",
    "\n",
    "```powershell\n",
    "choco install sqllocaldb\n",
    "choco install sqlserver-odbcdriver\n",
    "```\n",
    "\n",
    "[Install Chocolatey](https://chocolatey.org/install)"
   ]
  },
  {
   "cell_type": "markdown",
   "metadata": {},
   "source": [
    "## Setup\n",
    "\n",
    "Manage external dependencies."
   ]
  },
  {
   "cell_type": "markdown",
   "metadata": {},
   "source": [
    "### LocalDB Instance - MSSQLLocalDB\n",
    "\n",
    "LocalDB is managed with a tool called [SqlLocalDB](https://docs.microsoft.com/en-us/sql/tools/sqllocaldb-utility)."
   ]
  },
  {
   "cell_type": "code",
   "execution_count": 23,
   "metadata": {},
   "outputs": [
    {
     "data": {
      "text/plain": [
       "['MSSQLLocalDB']"
      ]
     },
     "execution_count": 23,
     "metadata": {},
     "output_type": "execute_result"
    }
   ],
   "source": [
    "# List instances\n",
    "%system SqlLocalDB.exe info"
   ]
  },
  {
   "cell_type": "markdown",
   "metadata": {},
   "source": [
    "### ODBC DSNs\n",
    "\n",
    "ODBC DSNs can be used in lieu of directly managing a connection string. Create a DSN automatically with the helper script:\n",
    "\n",
    "```powershell\n",
    ".\\scripts\\mssql.ps1 | Format-Table -AutoSize -Wrap \t# Run Script\n",
    "```\n",
    "\n",
    "`.\\scripts\\mssql.ps1` is a PowerShell script to help manage MSSQL LocalDB instances. Try `Get-Help .\\scripts\\mssql.ps1` for additional information."
   ]
  },
  {
   "cell_type": "markdown",
   "metadata": {},
   "source": [
    "## Kernel Setup\n",
    "\n",
    "Configure the Jupyter Kernel."
   ]
  },
  {
   "cell_type": "code",
   "execution_count": 24,
   "metadata": {},
   "outputs": [
    {
     "name": "stdout",
     "output_type": "stream",
     "text": [
      "The sql extension is already loaded. To reload it, use:\n",
      "  %reload_ext sql\n"
     ]
    }
   ],
   "source": [
    "# ipython-sql enables the %sql and %%sql magic statements\n",
    "%load_ext sql "
   ]
  },
  {
   "cell_type": "markdown",
   "metadata": {},
   "source": [
    "## Connections\n",
    "\n",
    "Manage DBMS connections."
   ]
  },
  {
   "cell_type": "markdown",
   "metadata": {},
   "source": [
    "### List Connections"
   ]
  },
  {
   "cell_type": "code",
   "execution_count": 25,
   "metadata": {},
   "outputs": [
    {
     "data": {
      "text/plain": [
       "{'mssql+pyodbc://@(localdb)\\\\MSSQLLocalDB/master?driver=ODBC+Driver+18+for+SQL+Server&trusted_connection=yes': <sql.connection.Connection at 0x2adf519de50>}"
      ]
     },
     "execution_count": 25,
     "metadata": {},
     "output_type": "execute_result"
    }
   ],
   "source": [
    "# List connections\n",
    "%sql --connections"
   ]
  },
  {
   "cell_type": "markdown",
   "metadata": {},
   "source": [
    "### List Drivers\n",
    "\n",
    "List the drivers available to **pyodbc**."
   ]
  },
  {
   "cell_type": "code",
   "execution_count": 26,
   "metadata": {},
   "outputs": [
    {
     "data": {
      "text/plain": [
       "['SQL Server',\n",
       " 'ODBC Driver 17 for SQL Server',\n",
       " 'ODBC Driver 18 for SQL Server']"
      ]
     },
     "execution_count": 26,
     "metadata": {},
     "output_type": "execute_result"
    }
   ],
   "source": [
    "import pyodbc\n",
    "pyodbc.drivers()"
   ]
  },
  {
   "cell_type": "code",
   "execution_count": 27,
   "metadata": {},
   "outputs": [
    {
     "name": "stdout",
     "output_type": "stream",
     "text": [
      "Latest driver: ODBC Driver 18 for SQL Server\n"
     ]
    }
   ],
   "source": [
    "# Latest driver version\n",
    "latestDriver = pyodbc.drivers()\n",
    "latestDriver.sort(reverse=True)\n",
    "latestDriver.remove('SQL Server')\n",
    "latestDriver = latestDriver[0]\n",
    "print('Latest driver: ' + latestDriver)"
   ]
  },
  {
   "cell_type": "markdown",
   "metadata": {},
   "source": [
    "### Open a Connection"
   ]
  },
  {
   "cell_type": "code",
   "execution_count": 28,
   "metadata": {},
   "outputs": [],
   "source": [
    "import urllib.parse\n",
    "\n",
    "# Connection with a connection string to (localdb)\\MSSQLLocalDB\n",
    "connection_string = \"mssql+pyodbc://@(localdb)\\MSSQLLocalDB/master?driver={d}&trusted_connection=yes\".format(d=urllib.parse.quote(latestDriver))\n",
    "%sql $connection_string\n",
    "\n",
    "# Connection with ODBC DSN named 'MSSQLLocalDBODBC'\n",
    "#%sql mssql+pyodbc://@MSSQLLocalDBODBC"
   ]
  },
  {
   "cell_type": "markdown",
   "metadata": {},
   "source": [
    "### Connection String Format\n",
    "\n",
    "Connection strings are [SqlAlchemy database URLs](https://docs.sqlalchemy.org/en/14/core/engines.html#database-urls).\n",
    "\n",
    "Example URL: `mssql+pyodbc://user:pass@(localdb)\\LocalDBInstanceName/database?driver=ODBC+Driver+18+for+SQL+Server&trusted_connection=yes`\n",
    "\n",
    "Deconstructed URL:\n",
    "- `mssql+pyodbc://`, a URI schema for SqlAlchemy connecting to MSSQL with the pyodbc driver.\n",
    "- `user:pass` optional credentials that may appear before the `@`.\n",
    "- `@(localdb)` LocalDB server name **OR** ODBC DSN name. - _note_ `(localdb)` and `(local)` are both localhost MSSQL instances and are different.\n",
    "\t- Use `(local)` for \"full\" MSSQL Server installations running a local database instance.\n",
    "\t- Use `(localdb)` for \"thin\" servers running only localDB.\n",
    "- `\\MSSQLLocalDB` LocalDB instance name.\n",
    "- `/database` database name to connect to\n",
    "- `?driver=ODBC+Driver+...` pyodbc driver name to use. See **List Drivers** to get a list of available drivers.\n",
    "- `&trusted_connection=yes` uses Integrated Security for connection credentials."
   ]
  },
  {
   "cell_type": "markdown",
   "metadata": {},
   "source": [
    "## Magic Queries\n",
    "\n",
    "Invoke queries with the `%sql` and `%%sql` magics for single and multi-line queries."
   ]
  },
  {
   "cell_type": "markdown",
   "metadata": {},
   "source": [
    "### Single-Line Query\n",
    "\n",
    "Execute single-line SQL queries with the `%sql` magic statement."
   ]
  },
  {
   "cell_type": "code",
   "execution_count": 29,
   "metadata": {
    "vscode": {
     "languageId": "sql"
    }
   },
   "outputs": [
    {
     "name": "stdout",
     "output_type": "stream",
     "text": [
      " * mssql+pyodbc://@(localdb)\\MSSQLLocalDB/master?driver=ODBC+Driver+18+for+SQL+Server&trusted_connection=yes\n",
      "Done.\n"
     ]
    },
    {
     "data": {
      "text/html": [
       "<table>\n",
       "    <tr>\n",
       "        <th>TABLE_CATALOG</th>\n",
       "        <th>TABLE_SCHEMA</th>\n",
       "        <th>TABLE_NAME</th>\n",
       "        <th>TABLE_TYPE</th>\n",
       "    </tr>\n",
       "    <tr>\n",
       "        <td>master</td>\n",
       "        <td>dbo</td>\n",
       "        <td>spt_fallback_db</td>\n",
       "        <td>BASE TABLE</td>\n",
       "    </tr>\n",
       "    <tr>\n",
       "        <td>master</td>\n",
       "        <td>dbo</td>\n",
       "        <td>spt_fallback_dev</td>\n",
       "        <td>BASE TABLE</td>\n",
       "    </tr>\n",
       "    <tr>\n",
       "        <td>master</td>\n",
       "        <td>dbo</td>\n",
       "        <td>spt_fallback_usg</td>\n",
       "        <td>BASE TABLE</td>\n",
       "    </tr>\n",
       "    <tr>\n",
       "        <td>master</td>\n",
       "        <td>dbo</td>\n",
       "        <td>spt_values</td>\n",
       "        <td>VIEW</td>\n",
       "    </tr>\n",
       "    <tr>\n",
       "        <td>master</td>\n",
       "        <td>dbo</td>\n",
       "        <td>spt_monitor</td>\n",
       "        <td>BASE TABLE</td>\n",
       "    </tr>\n",
       "    <tr>\n",
       "        <td>master</td>\n",
       "        <td>dbo</td>\n",
       "        <td>MSreplication_options</td>\n",
       "        <td>BASE TABLE</td>\n",
       "    </tr>\n",
       "</table>"
      ],
      "text/plain": [
       "[('master', 'dbo', 'spt_fallback_db', 'BASE TABLE'),\n",
       " ('master', 'dbo', 'spt_fallback_dev', 'BASE TABLE'),\n",
       " ('master', 'dbo', 'spt_fallback_usg', 'BASE TABLE'),\n",
       " ('master', 'dbo', 'spt_values', 'VIEW'),\n",
       " ('master', 'dbo', 'spt_monitor', 'BASE TABLE'),\n",
       " ('master', 'dbo', 'MSreplication_options', 'BASE TABLE')]"
      ]
     },
     "execution_count": 29,
     "metadata": {},
     "output_type": "execute_result"
    }
   ],
   "source": [
    "%sql SELECT TOP 10 * FROM INFORMATION_SCHEMA.TABLES;"
   ]
  },
  {
   "cell_type": "markdown",
   "metadata": {},
   "source": [
    "### Multi-Line Query\n",
    "\n",
    "Execute multi-line SQL queries with the `%%sql`` magic statement.\n",
    "\n",
    "**NOTE:** Multiple result in one cell execution raises an error as of 2022/07 with the message:\n",
    "\n",
    "> Connection is busy with results for another command"
   ]
  },
  {
   "cell_type": "code",
   "execution_count": 30,
   "metadata": {
    "vscode": {
     "languageId": "sql"
    }
   },
   "outputs": [
    {
     "name": "stdout",
     "output_type": "stream",
     "text": [
      " * mssql+pyodbc://@(localdb)\\MSSQLLocalDB/master?driver=ODBC+Driver+18+for+SQL+Server&trusted_connection=yes\n",
      "Done.\n"
     ]
    },
    {
     "data": {
      "text/html": [
       "<table>\n",
       "    <tr>\n",
       "        <th>TABLE_CATALOG</th>\n",
       "        <th>TABLE_SCHEMA</th>\n",
       "        <th>TABLE_NAME</th>\n",
       "        <th>TABLE_TYPE</th>\n",
       "    </tr>\n",
       "    <tr>\n",
       "        <td>master</td>\n",
       "        <td>dbo</td>\n",
       "        <td>spt_fallback_db</td>\n",
       "        <td>BASE TABLE</td>\n",
       "    </tr>\n",
       "    <tr>\n",
       "        <td>master</td>\n",
       "        <td>dbo</td>\n",
       "        <td>spt_fallback_dev</td>\n",
       "        <td>BASE TABLE</td>\n",
       "    </tr>\n",
       "    <tr>\n",
       "        <td>master</td>\n",
       "        <td>dbo</td>\n",
       "        <td>spt_fallback_usg</td>\n",
       "        <td>BASE TABLE</td>\n",
       "    </tr>\n",
       "    <tr>\n",
       "        <td>master</td>\n",
       "        <td>dbo</td>\n",
       "        <td>spt_values</td>\n",
       "        <td>VIEW</td>\n",
       "    </tr>\n",
       "    <tr>\n",
       "        <td>master</td>\n",
       "        <td>dbo</td>\n",
       "        <td>spt_monitor</td>\n",
       "        <td>BASE TABLE</td>\n",
       "    </tr>\n",
       "    <tr>\n",
       "        <td>master</td>\n",
       "        <td>dbo</td>\n",
       "        <td>MSreplication_options</td>\n",
       "        <td>BASE TABLE</td>\n",
       "    </tr>\n",
       "</table>"
      ],
      "text/plain": [
       "[('master', 'dbo', 'spt_fallback_db', 'BASE TABLE'),\n",
       " ('master', 'dbo', 'spt_fallback_dev', 'BASE TABLE'),\n",
       " ('master', 'dbo', 'spt_fallback_usg', 'BASE TABLE'),\n",
       " ('master', 'dbo', 'spt_values', 'VIEW'),\n",
       " ('master', 'dbo', 'spt_monitor', 'BASE TABLE'),\n",
       " ('master', 'dbo', 'MSreplication_options', 'BASE TABLE')]"
      ]
     },
     "execution_count": 30,
     "metadata": {},
     "output_type": "execute_result"
    }
   ],
   "source": [
    "%%sql\n",
    "SELECT\n",
    "\tTOP 10\n",
    "\t*\n",
    "FROM\n",
    "\tINFORMATION_SCHEMA.TABLES;"
   ]
  },
  {
   "cell_type": "markdown",
   "metadata": {},
   "source": [
    "### Parameterized SQL Queries\n",
    "\n",
    "Safely use variables in a SQL query by binding values to a parameterized SQL query. Jupyter Notebooks makes it easy, so there's still no excuse for SQL injection attacks in 2022.\n",
    "\n",
    "- Define variables in Python: `varname = 'Value'`\n",
    "- Reference variables in queries: `:varname`"
   ]
  },
  {
   "cell_type": "code",
   "execution_count": 31,
   "metadata": {
    "vscode": {
     "languageId": "sql"
    }
   },
   "outputs": [
    {
     "name": "stdout",
     "output_type": "stream",
     "text": [
      " * mssql+pyodbc://@(localdb)\\MSSQLLocalDB/master?driver=ODBC+Driver+18+for+SQL+Server&trusted_connection=yes\n",
      "Done.\n"
     ]
    },
    {
     "data": {
      "text/html": [
       "<table>\n",
       "    <tr>\n",
       "        <th>TABLE_CATALOG</th>\n",
       "        <th>TABLE_SCHEMA</th>\n",
       "        <th>TABLE_NAME</th>\n",
       "        <th>TABLE_TYPE</th>\n",
       "    </tr>\n",
       "    <tr>\n",
       "        <td>master</td>\n",
       "        <td>dbo</td>\n",
       "        <td>spt_fallback_db</td>\n",
       "        <td>BASE TABLE</td>\n",
       "    </tr>\n",
       "    <tr>\n",
       "        <td>master</td>\n",
       "        <td>dbo</td>\n",
       "        <td>spt_fallback_dev</td>\n",
       "        <td>BASE TABLE</td>\n",
       "    </tr>\n",
       "    <tr>\n",
       "        <td>master</td>\n",
       "        <td>dbo</td>\n",
       "        <td>spt_fallback_usg</td>\n",
       "        <td>BASE TABLE</td>\n",
       "    </tr>\n",
       "    <tr>\n",
       "        <td>master</td>\n",
       "        <td>dbo</td>\n",
       "        <td>spt_monitor</td>\n",
       "        <td>BASE TABLE</td>\n",
       "    </tr>\n",
       "    <tr>\n",
       "        <td>master</td>\n",
       "        <td>dbo</td>\n",
       "        <td>MSreplication_options</td>\n",
       "        <td>BASE TABLE</td>\n",
       "    </tr>\n",
       "</table>"
      ],
      "text/plain": [
       "[('master', 'dbo', 'spt_fallback_db', 'BASE TABLE'),\n",
       " ('master', 'dbo', 'spt_fallback_dev', 'BASE TABLE'),\n",
       " ('master', 'dbo', 'spt_fallback_usg', 'BASE TABLE'),\n",
       " ('master', 'dbo', 'spt_monitor', 'BASE TABLE'),\n",
       " ('master', 'dbo', 'MSreplication_options', 'BASE TABLE')]"
      ]
     },
     "execution_count": 31,
     "metadata": {},
     "output_type": "execute_result"
    }
   ],
   "source": [
    "table_types = 'BASE TABLE'\n",
    "%sql SELECT * FROM INFORMATION_SCHEMA.TABLES WHERE TABLE_TYPE=:table_types;"
   ]
  },
  {
   "cell_type": "markdown",
   "metadata": {},
   "source": [
    "### Bind Query Results to a Variable\n",
    "\n",
    "Bind query results to a Python variable.\n",
    "\n",
    "- Single-line assignment syntax: `varname = %sql ...`\n",
    "- Multi-line assignment syntax: `%%sql varname = << ...`"
   ]
  },
  {
   "cell_type": "code",
   "execution_count": 32,
   "metadata": {
    "vscode": {
     "languageId": "sql"
    }
   },
   "outputs": [
    {
     "name": "stdout",
     "output_type": "stream",
     "text": [
      " * mssql+pyodbc://@(localdb)\\MSSQLLocalDB/master?driver=ODBC+Driver+18+for+SQL+Server&trusted_connection=yes\n",
      "Done.\n"
     ]
    }
   ],
   "source": [
    "#-- single-line assignment\n",
    "result = %sql SELECT * FROM INFORMATION_SCHEMA.TABLES WHERE TABLE_TYPE='BASE TABLE';"
   ]
  },
  {
   "cell_type": "code",
   "execution_count": 33,
   "metadata": {
    "vscode": {
     "languageId": "sql"
    }
   },
   "outputs": [
    {
     "name": "stdout",
     "output_type": "stream",
     "text": [
      " * mssql+pyodbc://@(localdb)\\MSSQLLocalDB/master?driver=ODBC+Driver+18+for+SQL+Server&trusted_connection=yes\n",
      "Done.\n",
      "Returning data to local variable result2\n"
     ]
    }
   ],
   "source": [
    "%%sql result2 <<\n",
    "-- multi-line assignment\n",
    "SELECT TOP 5 *\n",
    "FROM INFORMATION_SCHEMA.TABLES\n",
    "WHERE TABLE_TYPE='BASE TABLE';"
   ]
  },
  {
   "cell_type": "markdown",
   "metadata": {},
   "source": [
    "### Pass Results in a Variable\n",
    "\n",
    "Output query data passed between cells. Output from the last cell executed is stored in an automatic variable named `_`."
   ]
  },
  {
   "cell_type": "code",
   "execution_count": 34,
   "metadata": {
    "vscode": {
     "languageId": "sql"
    }
   },
   "outputs": [
    {
     "name": "stdout",
     "output_type": "stream",
     "text": [
      " * mssql+pyodbc://@(localdb)\\MSSQLLocalDB/master?driver=ODBC+Driver+18+for+SQL+Server&trusted_connection=yes\n",
      "Done.\n"
     ]
    }
   ],
   "source": [
    "#-- First cell\n",
    "#----------------\n",
    "#-- Save results to a variable.\n",
    "result = %sql SELECT * FROM INFORMATION_SCHEMA.TABLES WHERE TABLE_TYPE='BASE TABLE';\n",
    "\n",
    "#-- No cell output"
   ]
  },
  {
   "cell_type": "code",
   "execution_count": 35,
   "metadata": {
    "vscode": {
     "languageId": "sql"
    }
   },
   "outputs": [
    {
     "data": {
      "text/html": [
       "<table>\n",
       "    <tr>\n",
       "        <th>TABLE_CATALOG</th>\n",
       "        <th>TABLE_SCHEMA</th>\n",
       "        <th>TABLE_NAME</th>\n",
       "        <th>TABLE_TYPE</th>\n",
       "    </tr>\n",
       "    <tr>\n",
       "        <td>master</td>\n",
       "        <td>dbo</td>\n",
       "        <td>spt_fallback_db</td>\n",
       "        <td>BASE TABLE</td>\n",
       "    </tr>\n",
       "    <tr>\n",
       "        <td>master</td>\n",
       "        <td>dbo</td>\n",
       "        <td>spt_fallback_dev</td>\n",
       "        <td>BASE TABLE</td>\n",
       "    </tr>\n",
       "    <tr>\n",
       "        <td>master</td>\n",
       "        <td>dbo</td>\n",
       "        <td>spt_fallback_usg</td>\n",
       "        <td>BASE TABLE</td>\n",
       "    </tr>\n",
       "    <tr>\n",
       "        <td>master</td>\n",
       "        <td>dbo</td>\n",
       "        <td>spt_monitor</td>\n",
       "        <td>BASE TABLE</td>\n",
       "    </tr>\n",
       "    <tr>\n",
       "        <td>master</td>\n",
       "        <td>dbo</td>\n",
       "        <td>MSreplication_options</td>\n",
       "        <td>BASE TABLE</td>\n",
       "    </tr>\n",
       "</table>"
      ],
      "text/plain": [
       "[('master', 'dbo', 'spt_fallback_db', 'BASE TABLE'),\n",
       " ('master', 'dbo', 'spt_fallback_dev', 'BASE TABLE'),\n",
       " ('master', 'dbo', 'spt_fallback_usg', 'BASE TABLE'),\n",
       " ('master', 'dbo', 'spt_monitor', 'BASE TABLE'),\n",
       " ('master', 'dbo', 'MSreplication_options', 'BASE TABLE')]"
      ]
     },
     "execution_count": 35,
     "metadata": {},
     "output_type": "execute_result"
    }
   ],
   "source": [
    "#-- SECOND CELL\n",
    "#----------------\n",
    "#-- Output results saved from the first cell.\n",
    "result"
   ]
  },
  {
   "cell_type": "markdown",
   "metadata": {},
   "source": [
    "### Pass Results in the Automatic Variable: `_`\n",
    "\n",
    "`_` is an variable containing output from a previously executed cell."
   ]
  },
  {
   "cell_type": "code",
   "execution_count": 36,
   "metadata": {
    "vscode": {
     "languageId": "sql"
    }
   },
   "outputs": [
    {
     "name": "stdout",
     "output_type": "stream",
     "text": [
      " * mssql+pyodbc://@(localdb)\\MSSQLLocalDB/master?driver=ODBC+Driver+18+for+SQL+Server&trusted_connection=yes\n",
      "Done.\n"
     ]
    },
    {
     "data": {
      "text/html": [
       "<table>\n",
       "    <tr>\n",
       "        <th>TABLE_CATALOG</th>\n",
       "        <th>TABLE_SCHEMA</th>\n",
       "        <th>TABLE_NAME</th>\n",
       "        <th>TABLE_TYPE</th>\n",
       "    </tr>\n",
       "    <tr>\n",
       "        <td>master</td>\n",
       "        <td>dbo</td>\n",
       "        <td>spt_fallback_db</td>\n",
       "        <td>BASE TABLE</td>\n",
       "    </tr>\n",
       "    <tr>\n",
       "        <td>master</td>\n",
       "        <td>dbo</td>\n",
       "        <td>spt_fallback_dev</td>\n",
       "        <td>BASE TABLE</td>\n",
       "    </tr>\n",
       "    <tr>\n",
       "        <td>master</td>\n",
       "        <td>dbo</td>\n",
       "        <td>spt_fallback_usg</td>\n",
       "        <td>BASE TABLE</td>\n",
       "    </tr>\n",
       "    <tr>\n",
       "        <td>master</td>\n",
       "        <td>dbo</td>\n",
       "        <td>spt_monitor</td>\n",
       "        <td>BASE TABLE</td>\n",
       "    </tr>\n",
       "    <tr>\n",
       "        <td>master</td>\n",
       "        <td>dbo</td>\n",
       "        <td>MSreplication_options</td>\n",
       "        <td>BASE TABLE</td>\n",
       "    </tr>\n",
       "</table>"
      ],
      "text/plain": [
       "[('master', 'dbo', 'spt_fallback_db', 'BASE TABLE'),\n",
       " ('master', 'dbo', 'spt_fallback_dev', 'BASE TABLE'),\n",
       " ('master', 'dbo', 'spt_fallback_usg', 'BASE TABLE'),\n",
       " ('master', 'dbo', 'spt_monitor', 'BASE TABLE'),\n",
       " ('master', 'dbo', 'MSreplication_options', 'BASE TABLE')]"
      ]
     },
     "execution_count": 36,
     "metadata": {},
     "output_type": "execute_result"
    }
   ],
   "source": [
    "#-- First cell\n",
    "#----------------\n",
    "#-- Save results to a variable.\n",
    "%sql SELECT * FROM INFORMATION_SCHEMA.TABLES WHERE TABLE_TYPE='BASE TABLE';"
   ]
  },
  {
   "cell_type": "code",
   "execution_count": 37,
   "metadata": {
    "vscode": {
     "languageId": "sql"
    }
   },
   "outputs": [
    {
     "name": "stdout",
     "output_type": "stream",
     "text": [
      "result in tabular format:\n",
      "+---------------+--------------+-----------------------+------------+\n",
      "| TABLE_CATALOG | TABLE_SCHEMA |       TABLE_NAME      | TABLE_TYPE |\n",
      "+---------------+--------------+-----------------------+------------+\n",
      "|     master    |     dbo      |    spt_fallback_db    | BASE TABLE |\n",
      "|     master    |     dbo      |    spt_fallback_dev   | BASE TABLE |\n",
      "|     master    |     dbo      |    spt_fallback_usg   | BASE TABLE |\n",
      "|     master    |     dbo      |      spt_monitor      | BASE TABLE |\n",
      "|     master    |     dbo      | MSreplication_options | BASE TABLE |\n",
      "+---------------+--------------+-----------------------+------------+\n"
     ]
    }
   ],
   "source": [
    "#-- Second cell\n",
    "#----------------\n",
    "#-- Obtain results from a variable.\n",
    "result = _\n",
    "\n",
    "print('result in tabular format:')\n",
    "print(result)"
   ]
  },
  {
   "cell_type": "markdown",
   "metadata": {},
   "source": [
    "### Access Result Values\n",
    "\n",
    "Various ways to access data from query execution results."
   ]
  },
  {
   "cell_type": "code",
   "execution_count": 38,
   "metadata": {
    "vscode": {
     "languageId": "sql"
    }
   },
   "outputs": [
    {
     "name": "stdout",
     "output_type": "stream",
     "text": [
      "table columns:\n",
      "RMKeyView(['TABLE_CATALOG', 'TABLE_SCHEMA', 'TABLE_NAME', 'TABLE_TYPE'])\n",
      "first row value: \n",
      "('master', 'dbo', 'spt_fallback_db', 'BASE TABLE')\n",
      "first row, first column: master\n",
      "first row and a named column: spt_fallback_db\n",
      "first row and an object property column: dbo\n"
     ]
    }
   ],
   "source": [
    "print('table columns:')\n",
    "print(result.keys)\n",
    "print('first row value: ')\n",
    "print(result[0])\n",
    "\n",
    "print('first row, first column: ' + result[0][0])\n",
    "print('first row and a named column: ' + result[0][\"TABLE_NAME\"])\n",
    "print('first row and an object property column: ' + result[0].TABLE_SCHEMA)"
   ]
  },
  {
   "cell_type": "markdown",
   "metadata": {},
   "source": [
    "### Execute a Stored Procedure\n",
    "\n",
    "Execute a stored procedure. Stored Procedures are specific to Microsoft SQL Server in T-SQL."
   ]
  },
  {
   "cell_type": "code",
   "execution_count": 39,
   "metadata": {
    "vscode": {
     "languageId": "sql"
    }
   },
   "outputs": [
    {
     "name": "stdout",
     "output_type": "stream",
     "text": [
      " * mssql+pyodbc://@(localdb)\\MSSQLLocalDB/master?driver=ODBC+Driver+18+for+SQL+Server&trusted_connection=yes\n",
      "Done.\n"
     ]
    },
    {
     "data": {
      "text/html": [
       "<table>\n",
       "    <tr>\n",
       "        <th>database_id</th>\n",
       "        <th>name</th>\n",
       "    </tr>\n",
       "    <tr>\n",
       "        <td>2</td>\n",
       "        <td>tempdb</td>\n",
       "    </tr>\n",
       "</table>"
      ],
      "text/plain": [
       "[(2, 'tempdb')]"
      ]
     },
     "execution_count": 39,
     "metadata": {},
     "output_type": "execute_result"
    }
   ],
   "source": [
    "%%sql\n",
    "Declare @Out int\n",
    "EXEC sp_prepexec @Out output,   \n",
    "    N'@P1 nvarchar(128), @P2 nvarchar(100)',  \n",
    "    N'SELECT database_id, name  \n",
    "      FROM sys.databases  \n",
    "      WHERE name=@P1 AND state_desc = @P2',   \n",
    "          @P1 = 'tempdb', @P2 = 'ONLINE';   "
   ]
  },
  {
   "cell_type": "markdown",
   "metadata": {},
   "source": [
    "## Pandas\n",
    "\n",
    "Process data directly in Python with Pandas DataFrames and the SQLAlchemy ORM."
   ]
  },
  {
   "cell_type": "markdown",
   "metadata": {},
   "source": [
    "### Convert Results to a DataFrame\n",
    "\n",
    "Execute a SQL query and convert the results into a Pandas DataFrame."
   ]
  },
  {
   "cell_type": "code",
   "execution_count": 40,
   "metadata": {
    "vscode": {
     "languageId": "sql"
    }
   },
   "outputs": [
    {
     "name": "stdout",
     "output_type": "stream",
     "text": [
      " * mssql+pyodbc://@(localdb)\\MSSQLLocalDB/master?driver=ODBC+Driver+18+for+SQL+Server&trusted_connection=yes\n",
      "Done.\n"
     ]
    }
   ],
   "source": [
    "#-- Execute a query and save the result as a Pandas DataFrame.\n",
    "result = %sql SELECT * FROM INFORMATION_SCHEMA.TABLES;\n",
    "dataframe = result.DataFrame()"
   ]
  },
  {
   "cell_type": "markdown",
   "metadata": {},
   "source": [
    "### Persist a DataFrame to a New Database Table\n",
    "\n",
    "Save a DataFrame to a new table with the `--persist <variable>` command. The table is named after the DataFrame variable."
   ]
  },
  {
   "cell_type": "code",
   "execution_count": 41,
   "metadata": {
    "vscode": {
     "languageId": "sql"
    }
   },
   "outputs": [
    {
     "name": "stdout",
     "output_type": "stream",
     "text": [
      " * mssql+pyodbc://@(localdb)\\MSSQLLocalDB/master?driver=ODBC+Driver+18+for+SQL+Server&trusted_connection=yes\n"
     ]
    },
    {
     "data": {
      "text/plain": [
       "'Persisted dataframe'"
      ]
     },
     "execution_count": 41,
     "metadata": {},
     "output_type": "execute_result"
    }
   ],
   "source": [
    "%sql --persist dataframe"
   ]
  },
  {
   "cell_type": "code",
   "execution_count": 42,
   "metadata": {
    "vscode": {
     "languageId": "sql"
    }
   },
   "outputs": [
    {
     "name": "stdout",
     "output_type": "stream",
     "text": [
      " * mssql+pyodbc://@(localdb)\\MSSQLLocalDB/master?driver=ODBC+Driver+18+for+SQL+Server&trusted_connection=yes\n",
      "Done.\n"
     ]
    },
    {
     "data": {
      "text/html": [
       "<table>\n",
       "    <tr>\n",
       "        <th>index</th>\n",
       "        <th>TABLE_CATALOG</th>\n",
       "        <th>TABLE_SCHEMA</th>\n",
       "        <th>TABLE_NAME</th>\n",
       "        <th>TABLE_TYPE</th>\n",
       "    </tr>\n",
       "    <tr>\n",
       "        <td>0</td>\n",
       "        <td>master</td>\n",
       "        <td>dbo</td>\n",
       "        <td>spt_fallback_db</td>\n",
       "        <td>BASE TABLE</td>\n",
       "    </tr>\n",
       "    <tr>\n",
       "        <td>1</td>\n",
       "        <td>master</td>\n",
       "        <td>dbo</td>\n",
       "        <td>spt_fallback_dev</td>\n",
       "        <td>BASE TABLE</td>\n",
       "    </tr>\n",
       "    <tr>\n",
       "        <td>2</td>\n",
       "        <td>master</td>\n",
       "        <td>dbo</td>\n",
       "        <td>spt_fallback_usg</td>\n",
       "        <td>BASE TABLE</td>\n",
       "    </tr>\n",
       "    <tr>\n",
       "        <td>3</td>\n",
       "        <td>master</td>\n",
       "        <td>dbo</td>\n",
       "        <td>spt_values</td>\n",
       "        <td>VIEW</td>\n",
       "    </tr>\n",
       "    <tr>\n",
       "        <td>4</td>\n",
       "        <td>master</td>\n",
       "        <td>dbo</td>\n",
       "        <td>spt_monitor</td>\n",
       "        <td>BASE TABLE</td>\n",
       "    </tr>\n",
       "    <tr>\n",
       "        <td>5</td>\n",
       "        <td>master</td>\n",
       "        <td>dbo</td>\n",
       "        <td>MSreplication_options</td>\n",
       "        <td>BASE TABLE</td>\n",
       "    </tr>\n",
       "</table>"
      ],
      "text/plain": [
       "[(0, 'master', 'dbo', 'spt_fallback_db', 'BASE TABLE'),\n",
       " (1, 'master', 'dbo', 'spt_fallback_dev', 'BASE TABLE'),\n",
       " (2, 'master', 'dbo', 'spt_fallback_usg', 'BASE TABLE'),\n",
       " (3, 'master', 'dbo', 'spt_values', 'VIEW'),\n",
       " (4, 'master', 'dbo', 'spt_monitor', 'BASE TABLE'),\n",
       " (5, 'master', 'dbo', 'MSreplication_options', 'BASE TABLE')]"
      ]
     },
     "execution_count": 42,
     "metadata": {},
     "output_type": "execute_result"
    }
   ],
   "source": [
    "%%sql\n",
    "-- access the perisisted data\n",
    "SELECT TOP 10 *\n",
    "FROM dataframe;"
   ]
  },
  {
   "cell_type": "markdown",
   "metadata": {},
   "source": [
    "### Append a DataFrame to an existing Database Table"
   ]
  },
  {
   "cell_type": "code",
   "execution_count": 43,
   "metadata": {
    "vscode": {
     "languageId": "sql"
    }
   },
   "outputs": [
    {
     "name": "stdout",
     "output_type": "stream",
     "text": [
      " * mssql+pyodbc://@(localdb)\\MSSQLLocalDB/master?driver=ODBC+Driver+18+for+SQL+Server&trusted_connection=yes\n",
      " * mssql+pyodbc://@(localdb)\\MSSQLLocalDB/master?driver=ODBC+Driver+18+for+SQL+Server&trusted_connection=yes\n",
      "Done.\n"
     ]
    },
    {
     "data": {
      "text/html": [
       "<table>\n",
       "    <tr>\n",
       "        <th>APPENDED_RECORD_CNT</th>\n",
       "    </tr>\n",
       "    <tr>\n",
       "        <td>12</td>\n",
       "    </tr>\n",
       "</table>"
      ],
      "text/plain": [
       "[(12,)]"
      ]
     },
     "execution_count": 43,
     "metadata": {},
     "output_type": "execute_result"
    }
   ],
   "source": [
    "#-- Append data to an existing table.\n",
    "#-- Run this cell multiple times to see the data duplicated after each run.\n",
    "%sql --append dataframe\n",
    "\n",
    "#-- Select the perisisted data.\n",
    "%sql SELECT COUNT(1) as APPENDED_RECORD_CNT FROM dataframe;"
   ]
  },
  {
   "cell_type": "markdown",
   "metadata": {},
   "source": [
    "### Drop the Persisted Database Table"
   ]
  },
  {
   "cell_type": "code",
   "execution_count": 44,
   "metadata": {
    "vscode": {
     "languageId": "sql"
    }
   },
   "outputs": [
    {
     "name": "stdout",
     "output_type": "stream",
     "text": [
      " * mssql+pyodbc://@(localdb)\\MSSQLLocalDB/master?driver=ODBC+Driver+18+for+SQL+Server&trusted_connection=yes\n",
      "Done.\n"
     ]
    },
    {
     "data": {
      "text/plain": [
       "[]"
      ]
     },
     "execution_count": 44,
     "metadata": {},
     "output_type": "execute_result"
    }
   ],
   "source": [
    "#-- cleanup data from example\n",
    "%sql DROP TABLE dataframe"
   ]
  },
  {
   "cell_type": "markdown",
   "metadata": {},
   "source": [
    "## Matplotlib\n",
    "\n",
    "[matplotlib](https://matplotlib.org/) is used to plot graphs."
   ]
  },
  {
   "cell_type": "markdown",
   "metadata": {},
   "source": [
    "### Configure\n",
    "\n",
    "Configure matplotlib."
   ]
  },
  {
   "cell_type": "code",
   "execution_count": 45,
   "metadata": {},
   "outputs": [],
   "source": [
    "# Produce an inline PNG image instead of opening a GUI application.\n",
    "%matplotlib inline"
   ]
  },
  {
   "cell_type": "markdown",
   "metadata": {},
   "source": [
    "### Pie Chart"
   ]
  },
  {
   "cell_type": "code",
   "execution_count": 46,
   "metadata": {
    "vscode": {
     "languageId": "sql"
    }
   },
   "outputs": [
    {
     "name": "stdout",
     "output_type": "stream",
     "text": [
      " * mssql+pyodbc://@(localdb)\\MSSQLLocalDB/master?driver=ODBC+Driver+18+for+SQL+Server&trusted_connection=yes\n",
      "Done.\n"
     ]
    },
    {
     "data": {
      "text/plain": [
       "([<matplotlib.patches.Wedge at 0x2ad86d41490>,\n",
       "  <matplotlib.patches.Wedge at 0x2ad86d41970>],\n",
       " [Text(-0.9526279098330698, 0.5500000594609756, 'BASE TABLE'),\n",
       "  Text(0.9526278840857078, -0.5500001040567061, 'VIEW')])"
      ]
     },
     "execution_count": 46,
     "metadata": {},
     "output_type": "execute_result"
    },
    {
     "data": {
      "image/png": "[encoded data removed]",
      "text/plain": [
       "<Figure size 432x288 with 1 Axes>"
      ]
     },
     "metadata": {},
     "output_type": "display_data"
    }
   ],
   "source": [
    "result = %sql SELECT TABLE_TYPE, COUNT(1) FROM INFORMATION_SCHEMA.TABLES GROUP BY TABLE_TYPE;\n",
    "result.pie()"
   ]
  },
  {
   "cell_type": "markdown",
   "metadata": {},
   "source": [
    "### Bar Chart"
   ]
  },
  {
   "cell_type": "code",
   "execution_count": 47,
   "metadata": {
    "vscode": {
     "languageId": "sql"
    }
   },
   "outputs": [
    {
     "data": {
      "text/plain": [
       "<BarContainer object of 2 artists>"
      ]
     },
     "execution_count": 47,
     "metadata": {},
     "output_type": "execute_result"
    },
    {
     "data": {
      "image/png": "[encoded data removed]",
      "text/plain": [
       "<Figure size 432x288 with 1 Axes>"
      ]
     },
     "metadata": {
      "needs_background": "light"
     },
     "output_type": "display_data"
    }
   ],
   "source": [
    "result.bar()"
   ]
  }
 ],
 "metadata": {
  "kernelspec": {
   "display_name": "Python 3.8.5 ('jupyter-sql-example-s9YgmqLQ')",
   "language": "python",
   "name": "python3"
  },
  "language_info": {
   "codemirror_mode": {
    "name": "ipython",
    "version": 3
   },
   "file_extension": ".py",
   "mimetype": "text/x-python",
   "name": "python",
   "nbconvert_exporter": "python",
   "pygments_lexer": "ipython3",
   "version": "3.8.5"
  },
  "orig_nbformat": 4,
  "vscode": {
   "interpreter": {
    "hash": "47bcc4ca2a5974197109c01b09a5e7ac9629bd760ffde210ac17f6d74168d49c"
   }
  }
 },
 "nbformat": 4,
 "nbformat_minor": 2
}
